{
 "cells": [
  {
   "cell_type": "markdown",
   "metadata": {
    "collapsed": false
   },
   "source": [
    "On commence avec un graphe biparti := graphe\n",
    "\n",
    "On va proposer un couplage := couplage ----------------   \n",
    "Il faut générer des chaines améliorantes := gen_chaine_ameliorante\n",
    "\n",
    "--> def couplage_final\n",
    "\n",
    "\n",
    "on va enfin avoir notre couplage optimal := couplage_final"
   ]
  },
  {
   "cell_type": "code",
   "execution_count": 1,
   "metadata": {
    "collapsed": false
   },
   "outputs": [
    {
     "name": "stdout",
     "output_type": "stream",
     "text": [
      "{1: [2], 2: [1]}\n",
      "{1: [2], 2: [1], 3: []}\n",
      "{1: [], 2: [3], 3: [2], 4: []}\n",
      "{1: [], 2: [4], 3: [4], 4: [2, 3]}\n",
      "{1: [3], 2: [], 3: [1]}\n",
      "{1: [3], 2: [3], 3: [2, 1, 4], 4: [3]}\n",
      "{1: [2], 2: [1], 3: []}\n",
      "{1: [], 2: []}\n",
      "{1: [3], 2: [3], 3: [1, 2], 4: []}\n",
      "{1: [3, 2], 2: [1], 3: [1], 4: []}\n",
      "{1: [3], 2: [], 3: [1], 4: []}\n",
      "{1: [2], 2: [1]}\n",
      "{1: [], 2: [3], 3: [2], 4: []}\n",
      "{1: [], 2: []}\n",
      "{1: [3], 2: [3], 3: [2, 4, 1], 4: [3]}\n",
      "{1: [3], 2: [3], 3: [1, 2]}\n",
      "{1: [], 2: [], 3: [4], 4: [3]}\n",
      "{1: [2], 2: [1]}\n",
      "{1: [3], 2: [], 3: [1]}\n",
      "{1: [], 2: [], 3: []}\n"
     ]
    }
   ],
   "source": [
    "import random \n",
    "\n",
    "####################################################\n",
    "#       CONSTRUCTION GRAPHE QCQ\n",
    "####################################################\n",
    "\n",
    "def creationListe(sommet,total_sommet):\n",
    "    liste = []\n",
    "    nb = random.randrange(1,total_sommet+1)\n",
    "    \n",
    "    #construction de listes d'adjacences\n",
    "    for i in range (nb) :\n",
    "        #print(\"nb =\",nb)\n",
    "        nb_a_ajouter = random.randrange(1,total_sommet+1)\n",
    "        #verif que le sommet courant ne se rajoute pas \n",
    "        while nb_a_ajouter == sommet:\n",
    "            nb_a_ajouter = random.randrange(1,total_sommet+1)\n",
    "            pass\n",
    "        liste.append(nb_a_ajouter)\n",
    "        pass\n",
    "    #print(\"1er liste =\",liste)\n",
    "    #pour pas qu il y est plusieurs fois le même voisin\n",
    "    listefinale=[]\n",
    "    for element in liste:\n",
    "        if not element in listefinale :\n",
    "            listefinale.append(element)\n",
    "            pass\n",
    "        pass\n",
    "\n",
    "    #print(\"derniere liste =\",listefinale)\n",
    "    return listefinale\n",
    " \n",
    "def constructeur(longueur_graphe):\n",
    "    total_sommet = random.randrange(1,longueur_graphe)\n",
    "    #print(\"s =\",s)\n",
    "    mongraphe = dict()\n",
    "    #cas particulier de 1 sommet \n",
    "    if total_sommet==1 :\n",
    "        mongraphe[total_sommet] = []\n",
    "        pass\n",
    "    else:\n",
    "        mongraphe = dict()\n",
    "        for sommet in range (1,total_sommet+1):\n",
    "            #faire les listes d'adjacences correctes\n",
    "            liste = creationListe(sommet,total_sommet)\n",
    "            mongraphe[sommet]=liste\n",
    "            pass\n",
    "    return mongraphe\n",
    "\n",
    "################################\n",
    "#       CONSTRUCTION BIPARTI\n",
    "################################\n",
    "\n",
    "\n",
    "def liste_liaison (liste_femme) :\n",
    "    liste=[]\n",
    "    for femme in liste_femme :\n",
    "        if random.randint(1,2) == 1:\n",
    "            liste.append(femme)\n",
    "\n",
    "    return liste\n",
    "\n",
    "def constructeur_biparti(longueur_graphe):\n",
    "    graphe = dict()\n",
    "    H=[]\n",
    "    F=[]\n",
    "    total_sommet = random.randrange(1,longueur_graphe)\n",
    "    #cas où on a qu'un sommet\n",
    "    if total_sommet==1 :\n",
    "        return {1 : []} \n",
    "    \n",
    "\n",
    "    #construction des groupes\n",
    "    liste_sommet = [i*1 for i in range(1,total_sommet)]\n",
    "\n",
    "    nb_homme= random.randrange(1,total_sommet)\n",
    "    liste_homme= random.sample(liste_sommet,nb_homme)\n",
    "    \n",
    "    liste_femme=[]\n",
    "\n",
    "    for individu in liste_sommet:\n",
    "        if not individu in liste_homme :\n",
    "            liste_femme.append(individu)\n",
    "\n",
    "\n",
    "    #print(liste_sommet)\n",
    "    #print(liste_homme)\n",
    "    #print(liste_femme)\n",
    "\n",
    "    #construction des liaisons\n",
    "    for homme in liste_homme :\n",
    "        liste=liste_liaison(liste_femme)\n",
    "        graphe[homme]=liste\n",
    "\n",
    "    #Complétion du graphe\n",
    "    graphe2 = {n : [] for n in range(1,total_sommet)}\n",
    "\n",
    "    #parcour le graphe remplit des liaisons hommes -> femmes\n",
    "    for homme in graphe:\n",
    "\n",
    "        #memorise dans le graphe final les liaisons hommes -> femmes\n",
    "        graphe2[homme] = graphe[homme]\n",
    "\n",
    "        #parcour de la liste de femme que cotoie l'homme\n",
    "        for femme in graphe[homme]:\n",
    "            #pour chaque femme, on lui ajoute l'homme qu'elle cotoie\n",
    "            graphe2[femme].append(homme)\n",
    "            pass\n",
    "        pass\n",
    "\n",
    "    #print(graphe)\n",
    "    return graphe2\n",
    "\n",
    "################################\n",
    "#       APPROFONDISSEMENT\n",
    "################################\n",
    "\n",
    "#il serait intéressant de gérer la taille des liaisons possibles\n",
    "def liste_liaison_mieux (min,max,liste_femme) :\n",
    "    liste=[]\n",
    "    for femme in liste_femme :\n",
    "        if random.randint(1,2) == 1:\n",
    "            liste.append(femme)\n",
    "\n",
    "    return liste\n",
    "\n",
    "def constructeur_biparti_mieux(minimum,maximum,min,max):\n",
    "    graphe = dict()\n",
    "    H=[]\n",
    "    F=[]\n",
    "    total_sommet = random.randrange(minimum,maximum)\n",
    "    #cas où on a qu'un sommet\n",
    "    if total_sommet==1 :\n",
    "        return {1 : []} \n",
    "    \n",
    "\n",
    "    #construction des groupes\n",
    "    liste_sommet = [i*1 for i in range(1,total_sommet)]\n",
    "\n",
    "    nb_homme= random.randrange(1,total_sommet)\n",
    "    liste_homme= random.sample(liste_sommet,nb_homme)\n",
    "    \n",
    "    liste_femme=[]\n",
    "\n",
    "    for individu in liste_sommet:\n",
    "        if not individu in liste_homme :\n",
    "            liste_femme.append(individu)\n",
    "\n",
    "\n",
    "    #print(liste_sommet)\n",
    "    #print(liste_homme)\n",
    "    #print(liste_femme)\n",
    "\n",
    "    #construction des liaisons\n",
    "    for homme in liste_homme :\n",
    "        liste=liste_liaison_mieux(min,max,liste_femme)\n",
    "        graphe[homme]=liste\n",
    "\n",
    "    #Complétion du graphe\n",
    "    graphe2 = {n : [] for n in range(1,total_sommet)}\n",
    "\n",
    "    #parcour le graphe remplit des liaisons hommes -> femmes\n",
    "    for homme in graphe:\n",
    "\n",
    "        #memorise dans le graphe final les liaisons hommes -> femmes\n",
    "        graphe2[homme] = graphe[homme]\n",
    "\n",
    "        #parcour de la liste de femme que cotoie l'homme\n",
    "        for femme in graphe[homme]:\n",
    "            #pour chaque femme, on lui ajoute l'homme qu'elle cotoie\n",
    "            graphe2[femme].append(homme)\n",
    "            pass\n",
    "        pass\n",
    "    #print(graphe)\n",
    "    return graphe2\n",
    "\n",
    "################################\n",
    "#       TEST\n",
    "################################\n",
    "\n",
    "\n",
    "nombre_min_individu = 3\n",
    "nombre_max_individu = 6\n",
    "nombre_min_partenaire = 2\n",
    "nombre_max_partenaire = 6\n",
    "\n",
    "\n",
    "liste_graphe = []\n",
    "for _ in range(20):\n",
    "    g= constructeur_biparti_mieux(nombre_min_individu,nombre_max_individu,nombre_min_partenaire,nombre_max_partenaire)\n",
    "    liste_graphe.append(g)\n",
    "    print(g)\n"
   ]
  },
  {
   "cell_type": "markdown",
   "metadata": {
    "collapsed": false
   },
   "source": [
    "On veut créer un couplage optimal, c'est-à-dire créer un couplage où il y a le plus d'individus mariés"
   ]
  },
  {
   "cell_type": "code",
   "execution_count": 2,
   "metadata": {
    "collapsed": false
   },
   "outputs": [
   ],
   "source": [
    "#on commencer par creer notre liste de relations : dans le graphe qui est en relation avec qui\n",
    "#on ajoute un partenaire dans la liste s'il est en relation avec (ex: 3 est en relation avec 5,2,4 donc 3:[5,2,4])\n",
    "\n",
    "def ajout_partenaire(indv,graphe,couple): #on regarde dans nos listes de relations si on a des individus disponibles : liste de relations = 3:[5,2,4]\n",
    "    liste_relation = graphe[indv]\n",
    "    for potentiel_partenaire in liste_relation:\n",
    "        try:\n",
    "            amant = couple[potentiel_partenaire] #on regarde si l'individu est deja attribué\n",
    "            if couple[amant] == indv:  #on vérifie que ce soit la même personne\n",
    "                return amant\n",
    "        except:\n",
    "            return potentiel_partenaire\n",
    "    return 0 #valeur pour signifier que l'individu n'a pas de partenaire"
   ]
  },
  {
   "cell_type": "code",
   "execution_count": 3,
   "metadata": {
    "collapsed": false
   },
   "outputs": [
   ],
   "source": [
    "def couplage(graphe): #on crée notre fonction du couplage\n",
    "    couplage = {}     #on part d'un couplage vide\n",
    "\n",
    "    for indv in graphe:        #pour tous les individus du graphe\n",
    "        if graphe[indv] != []: #on regarde si le sommet en question a des potentiels partenaires par rapport à notre graphe\n",
    "            try :\n",
    "                a = couplage[indv]  #on regarde si cet individu est deja en couple\n",
    "            except :                #sinon on crée un couple\n",
    "                partenaire = ajout_partenaire(indv,graphe,couplage)\n",
    "                couplage[indv] = partenaire      #on mémorise dans les 2 sens 1-->7 et 7-->1\n",
    "                couplage[partenaire] = indv\n",
    "    return (couplage)"
   ]
  },
  {
   "cell_type": "code",
   "execution_count": 4,
   "metadata": {
    "collapsed": false
   },
   "outputs": [
   ],
   "source": [
    "graphe = {1 : [5,6,7],\n",
    "          2 : [6,7],\n",
    "          3 : [5,7],\n",
    "          4 : [5],\n",
    "          5 : [1,3,4],\n",
    "          6 : [1,2],\n",
    "          7 : [1,2,3]}\n",
    "\n",
    "graphe = {1: [2, 4, 5, 7],\n",
    "          2: [1, 8],\n",
    "          3: [8, 6],\n",
    "          4: [1, 6],\n",
    "          5: [1, 6],\n",
    "          6: [3, 4, 5, 7],\n",
    "          7: [1, 8, 6],\n",
    "          8: [2, 3, 7]}\n",
    "\n",
    "graphe = {1 : [7,8],\n",
    "         2 : [7,9],\n",
    "         3 : [10,11,12],\n",
    "         4 : [8],\n",
    "         5 : [7,10],\n",
    "         6 : [12],\n",
    "         7 : [1,2,5],\n",
    "         8 : [1,4],\n",
    "         9 : [2],\n",
    "         10 :[3,5],\n",
    "         11 :[3],\n",
    "         12 :[3,6]}\n",
    "\n",
    "graphe_resultat={1: 7, 7: 1, 2: 9, 9: 2, 3: 11, 10: 5, 4: 8, 8: 4, 5: 10, 6: 12, 12: 6, 11: 3}"
   ]
  },
  {
   "cell_type": "code",
   "execution_count": 5,
   "metadata": {
    "collapsed": false
   },
   "outputs": [
    {
     "name": "stdout",
     "output_type": "stream",
     "text": [
      "{1: [7, 8], 2: [7, 9], 3: [10, 11, 12], 4: [8], 5: [7, 10], 6: [12], 7: [1, 2, 5], 8: [1, 4], 9: [2], 10: [3, 5], 11: [3], 12: [3, 6]}\n",
      "{1: 7, 7: 1, 2: 9, 9: 2, 3: 10, 10: 3, 4: 8, 8: 4, 5: 0, 0: 11, 6: 12, 12: 6, 11: 0}\n",
      "False\n",
      "----\n"
     ]
    }
   ],
   "source": [
    "print(graphe)\n",
    "c=couplage(graphe)\n",
    "print(c)\n",
    "print(c==graphe_resultat)\n",
    "print(\"----\")"
   ]
  },
  {
   "cell_type": "code",
   "execution_count": 6,
   "metadata": {
    "collapsed": false
   },
   "outputs": [
   ],
   "source": [
    "#depart d'un celib\n",
    "#on cherche à trouver les célibataires afin de les mettre en couple pour avoir un couplage maximum = tout le monde est marié\n",
    "def detection_celib(couplage):\n",
    "    celib=[]                          #on part d'une liste vide\n",
    "    for indv in couplage :            #pour chaque individu dans le couplage\n",
    "        if couplage[indv] == 0:       #notre 0 de tout à l'heure : si l'individu est celibataire\n",
    "            celib.append(indv)        #alors on le met dans la liste des célibataires\n",
    "    return(celib)"
   ]
  },
  {
   "cell_type": "code",
   "execution_count": 7,
   "metadata": {
    "collapsed": false
   },
   "outputs": [
    {
     "name": "stdout",
     "output_type": "stream",
     "text": [
      "[5, 11]\n"
     ]
    }
   ],
   "source": [
    "celib=detection_celib(c)\n",
    "print(celib) #on affiche les individus célibataires"
   ]
  },
  {
   "cell_type": "code",
   "execution_count": 8,
   "metadata": {
    "collapsed": false
   },
   "outputs": [
   ],
   "source": [
    "def prive_de (trace,indv,graphe): #pour éviter des boucles infinies\n",
    "    l = []\n",
    "    for i in graphe[indv]:\n",
    "        if i not in trace :\n",
    "            l.append(i)\n",
    "    return l"
   ]
  },
  {
   "cell_type": "code",
   "execution_count": 9,
   "metadata": {
    "collapsed": false
   },
   "outputs": [
   ],
   "source": [
    "def explo(celib,graphe):           #on va explorer les chemins du graphe\n",
    "    chemin = {}                    #on part d'une chemin vide\n",
    "    for i in celib :               #pour les individus célibataires\n",
    "        possibilites=graphe[i]     #relations que le celib a\n",
    "        trace=[]                   #pour éviter les boucles infinies\n",
    "        indv = 0                   #car besoin d'une valeur initiale\n",
    "        trace.append(i)            #on met le point de départ dans la trace\n",
    "        while indv not in celib :  #tant que les individus ne sont pas célibataires\n",
    "            indv = possibilites[0] #l'individu devient la première possibilité\n",
    "            trace.append(indv)\n",
    "            possibilites =  possibilites[1:] + prive_de(trace,indv,graphe) #on crée les nouvelles possibiltés en enlevant le 1er élément de la liste possibilité + les possibilités de notre individu \n",
    "        chemin[i] = trace\n",
    "    return chemin"
   ]
  },
  {
   "cell_type": "code",
   "execution_count": 10,
   "metadata": {
    "collapsed": false
   },
   "outputs": [
   ],
   "source": [
    "chemins = (explo(celib,graphe))"
   ]
  },
  {
   "cell_type": "code",
   "execution_count": 11,
   "metadata": {
    "collapsed": false
   },
   "outputs": [
   ],
   "source": [
    "#on va creer notre def d'une chaîne améliorante :\n",
    "def chaine_ameliorante (graphe,chemins): #nettoyage de l'exploration, on fait le chemin en sens inverse, on parcourt pour revenir : enlève les sommets inutiles\n",
    "    r = []\n",
    "    for chemin in chemins:\n",
    "        depart = chemins[chemin][-1] #le dernier élément de la liste : c'est le -1\n",
    "        arrive = chemins[chemin][0]  #premier élément de la liste : c'est le 0\n",
    "        resultat = [depart]\n",
    "        evite = set()                #pour éviter les boucles infinies\n",
    "        evite.add(depart)\n",
    "        while depart != arrive:\n",
    "            choix = graphe[depart]\n",
    "            for i in choix:\n",
    "                if i in chemins[chemin] and i not in evite:\n",
    "                    depart=i\n",
    "                    evite.add(depart)\n",
    "                    resultat.append(depart)\n",
    "                    break\n",
    "        r.append(resultat)\n",
    "    return r"
   ]
  },
  {
   "cell_type": "code",
   "execution_count": 12,
   "metadata": {
    "collapsed": false
   },
   "outputs": [
    {
     "name": "stdout",
     "output_type": "stream",
     "text": [
      "[[11, 3, 10, 5], [5, 10, 3, 11]]\n"
     ]
    }
   ],
   "source": [
    "print(chaine_ameliorante(graphe,chemins))"
   ]
  },
  {
   "cell_type": "code",
   "execution_count": 13,
   "metadata": {
    "collapsed": false
   },
   "outputs": [
   ],
   "source": [
    "def amelioration(graphe,graphe_initial):\n",
    "    dc = detection_celib(graphe)\n",
    "    e = explo(dc,graphe_initial)\n",
    "    f = chaine_ameliorante(graphe_initial,e)\n",
    "    f = [[11, 3, 10, 5], [5, 10, 3, 11]]\n",
    "\n",
    "    for chaine in f:\n",
    "        t = len(chaine)\n",
    "        for indv in range(0,t,2):\n",
    "            graphe[ chaine[indv] ] = chaine[indv+1]\n",
    "            graphe[ chaine[indv+1] ] = chaine[indv]\n",
    "            pass\n",
    "        pass\n",
    "    print(graphe)\n",
    "    return graphe"
   ]
  },
  {
   "cell_type": "code",
   "execution_count": 14,
   "metadata": {
    "collapsed": false
   },
   "outputs": [
   ],
   "source": [
    "def couplage_final(graphe,graphe_initial):\n",
    "    graphe_final = amelioration(graphe,graphe_initial) #créer def amelioration qui crée un graphe de couple à partir de chaine_ameliorante\n",
    "    if graphe_final != graphe:\n",
    "        return couplage_final(graphe_final,graphe_initial)\n",
    "    else:\n",
    "        return graphe_final"
   ]
  },
  {
   "cell_type": "code",
   "execution_count": 15,
   "metadata": {
    "collapsed": false
   },
   "outputs": [
   ],
   "source": [
    "def le_mariage(graphe_initial):\n",
    "    graphe = couplage(graphe_initial)\n",
    "    return couplage_final(graphe,graphe_initial)"
   ]
  },
  {
   "cell_type": "code",
   "execution_count": 16,
   "metadata": {
    "collapsed": false
   },
   "outputs": [
    {
     "name": "stdout",
     "output_type": "stream",
     "text": [
      "{1: 7, 7: 1, 2: 9, 9: 2, 3: 11, 10: 5, 4: 8, 8: 4, 5: 10, 0: 11, 6: 12, 12: 6, 11: 3}\n",
      "{1: 7, 7: 1, 2: 9, 9: 2, 3: 11, 10: 5, 4: 8, 8: 4, 5: 10, 0: 11, 6: 12, 12: 6, 11: 3}\n"
     ]
    }
   ],
   "source": [
    "graphe = {1 : [7,8],\n",
    "         2 : [7,9],\n",
    "         3 : [10,11,12],\n",
    "         4 : [8],\n",
    "         5 : [7,10],\n",
    "         6 : [12],\n",
    "         7 : [1,2,5],\n",
    "         8 : [1,4],\n",
    "         9 : [2],\n",
    "         10 :[3,5],\n",
    "         11 :[3],\n",
    "         12 :[3,6]}\n",
    "print(le_mariage(graphe))"
   ]
  },
  {
   "cell_type": "code",
   "execution_count": 0,
   "metadata": {
    "collapsed": false
   },
   "outputs": [
   ],
   "source": [
   ]
  }
 ],
 "metadata": {
  "kernelspec": {
   "display_name": "Python 3 (system-wide)",
   "language": "python",
   "metadata": {
    "cocalc": {
     "description": "Python 3 programming language",
     "priority": 100,
     "url": "https://www.python.org/"
    }
   },
   "name": "python3",
   "resource_dir": "/ext/jupyter/kernels/python3"
  },
  "language_info": {
   "codemirror_mode": {
    "name": "ipython",
    "version": 3
   },
   "file_extension": ".py",
   "mimetype": "text/x-python",
   "name": "python",
   "nbconvert_exporter": "python",
   "pygments_lexer": "ipython3",
   "version": "3.8.10"
  }
 },
 "nbformat": 4,
 "nbformat_minor": 4
}